{
  "nbformat": 4,
  "nbformat_minor": 0,
  "metadata": {
    "colab": {
      "name": "ML project",
      "provenance": []
    },
    "kernelspec": {
      "name": "python3",
      "display_name": "Python 3"
    }
  },
  "cells": [
    {
      "cell_type": "code",
      "metadata": {
        "id": "doOUtm-gL-BT"
      },
      "source": [
        "import pandas as pd\r\n",
        "import numpy as np\r\n",
        "import matplotlib.pyplot as plt\r\n",
        "from sklearn.neighbors import KNeighborsClassifier\r\n",
        "from sklearn.model_selection import train_test_split\r\n",
        "from sklearn.model_selection import cross_val_score\r\n",
        "from sklearn.metrics import confusion_matrix\r\n",
        "from sklearn.metrics import accuracy_score\r\n",
        "from sklearn import preprocessing"
      ],
      "execution_count": null,
      "outputs": []
    },
    {
      "cell_type": "code",
      "metadata": {
        "colab": {
          "base_uri": "https://localhost:8080/",
          "height": 669
        },
        "id": "zIi-PXn4MfZ9",
        "outputId": "d64f3483-6303-4aea-a7b0-6ee9528bfdca"
      },
      "source": [
        "data = pd.read_csv(\"/content/drive/MyDrive/archive (2).zip\")\r\n",
        "data.head(20)"
      ],
      "execution_count": null,
      "outputs": [
        {
          "output_type": "execute_result",
          "data": {
            "text/html": [
              "<div>\n",
              "<style scoped>\n",
              "    .dataframe tbody tr th:only-of-type {\n",
              "        vertical-align: middle;\n",
              "    }\n",
              "\n",
              "    .dataframe tbody tr th {\n",
              "        vertical-align: top;\n",
              "    }\n",
              "\n",
              "    .dataframe thead th {\n",
              "        text-align: right;\n",
              "    }\n",
              "</style>\n",
              "<table border=\"1\" class=\"dataframe\">\n",
              "  <thead>\n",
              "    <tr style=\"text-align: right;\">\n",
              "      <th></th>\n",
              "      <th>blue</th>\n",
              "      <th>green</th>\n",
              "      <th>red</th>\n",
              "      <th>label</th>\n",
              "    </tr>\n",
              "  </thead>\n",
              "  <tbody>\n",
              "    <tr>\n",
              "      <th>0</th>\n",
              "      <td>36</td>\n",
              "      <td>27</td>\n",
              "      <td>231</td>\n",
              "      <td>0</td>\n",
              "    </tr>\n",
              "    <tr>\n",
              "      <th>1</th>\n",
              "      <td>36</td>\n",
              "      <td>84</td>\n",
              "      <td>250</td>\n",
              "      <td>1</td>\n",
              "    </tr>\n",
              "    <tr>\n",
              "      <th>2</th>\n",
              "      <td>37</td>\n",
              "      <td>164</td>\n",
              "      <td>255</td>\n",
              "      <td>2</td>\n",
              "    </tr>\n",
              "    <tr>\n",
              "      <th>3</th>\n",
              "      <td>22</td>\n",
              "      <td>205</td>\n",
              "      <td>255</td>\n",
              "      <td>3</td>\n",
              "    </tr>\n",
              "    <tr>\n",
              "      <th>4</th>\n",
              "      <td>38</td>\n",
              "      <td>223</td>\n",
              "      <td>221</td>\n",
              "      <td>4</td>\n",
              "    </tr>\n",
              "    <tr>\n",
              "      <th>5</th>\n",
              "      <td>29</td>\n",
              "      <td>214</td>\n",
              "      <td>148</td>\n",
              "      <td>5</td>\n",
              "    </tr>\n",
              "    <tr>\n",
              "      <th>6</th>\n",
              "      <td>0</td>\n",
              "      <td>181</td>\n",
              "      <td>76</td>\n",
              "      <td>6</td>\n",
              "    </tr>\n",
              "    <tr>\n",
              "      <th>7</th>\n",
              "      <td>13</td>\n",
              "      <td>156</td>\n",
              "      <td>0</td>\n",
              "      <td>7</td>\n",
              "    </tr>\n",
              "    <tr>\n",
              "      <th>8</th>\n",
              "      <td>92</td>\n",
              "      <td>166</td>\n",
              "      <td>0</td>\n",
              "      <td>8</td>\n",
              "    </tr>\n",
              "    <tr>\n",
              "      <th>9</th>\n",
              "      <td>184</td>\n",
              "      <td>191</td>\n",
              "      <td>0</td>\n",
              "      <td>9</td>\n",
              "    </tr>\n",
              "    <tr>\n",
              "      <th>10</th>\n",
              "      <td>200</td>\n",
              "      <td>136</td>\n",
              "      <td>1</td>\n",
              "      <td>10</td>\n",
              "    </tr>\n",
              "    <tr>\n",
              "      <th>11</th>\n",
              "      <td>198</td>\n",
              "      <td>76</td>\n",
              "      <td>0</td>\n",
              "      <td>11</td>\n",
              "    </tr>\n",
              "    <tr>\n",
              "      <th>12</th>\n",
              "      <td>180</td>\n",
              "      <td>38</td>\n",
              "      <td>51</td>\n",
              "      <td>12</td>\n",
              "    </tr>\n",
              "    <tr>\n",
              "      <th>13</th>\n",
              "      <td>181</td>\n",
              "      <td>22</td>\n",
              "      <td>72</td>\n",
              "      <td>13</td>\n",
              "    </tr>\n",
              "    <tr>\n",
              "      <th>14</th>\n",
              "      <td>140</td>\n",
              "      <td>17</td>\n",
              "      <td>57</td>\n",
              "      <td>14</td>\n",
              "    </tr>\n",
              "    <tr>\n",
              "      <th>15</th>\n",
              "      <td>38</td>\n",
              "      <td>27</td>\n",
              "      <td>237</td>\n",
              "      <td>0</td>\n",
              "    </tr>\n",
              "    <tr>\n",
              "      <th>16</th>\n",
              "      <td>50</td>\n",
              "      <td>100</td>\n",
              "      <td>244</td>\n",
              "      <td>1</td>\n",
              "    </tr>\n",
              "    <tr>\n",
              "      <th>17</th>\n",
              "      <td>30</td>\n",
              "      <td>143</td>\n",
              "      <td>247</td>\n",
              "      <td>2</td>\n",
              "    </tr>\n",
              "    <tr>\n",
              "      <th>18</th>\n",
              "      <td>36</td>\n",
              "      <td>195</td>\n",
              "      <td>255</td>\n",
              "      <td>3</td>\n",
              "    </tr>\n",
              "    <tr>\n",
              "      <th>19</th>\n",
              "      <td>0</td>\n",
              "      <td>242</td>\n",
              "      <td>254</td>\n",
              "      <td>4</td>\n",
              "    </tr>\n",
              "  </tbody>\n",
              "</table>\n",
              "</div>"
            ],
            "text/plain": [
              "    blue  green  red  label\n",
              "0     36     27  231      0\n",
              "1     36     84  250      1\n",
              "2     37    164  255      2\n",
              "3     22    205  255      3\n",
              "4     38    223  221      4\n",
              "5     29    214  148      5\n",
              "6      0    181   76      6\n",
              "7     13    156    0      7\n",
              "8     92    166    0      8\n",
              "9    184    191    0      9\n",
              "10   200    136    1     10\n",
              "11   198     76    0     11\n",
              "12   180     38   51     12\n",
              "13   181     22   72     13\n",
              "14   140     17   57     14\n",
              "15    38     27  237      0\n",
              "16    50    100  244      1\n",
              "17    30    143  247      2\n",
              "18    36    195  255      3\n",
              "19     0    242  254      4"
            ]
          },
          "metadata": {
            "tags": []
          },
          "execution_count": 81
        }
      ]
    },
    {
      "cell_type": "code",
      "metadata": {
        "colab": {
          "base_uri": "https://localhost:8080/"
        },
        "id": "yMj36jiRNHOe",
        "outputId": "698b3783-0d57-4e6b-c222-db0f30dc15aa"
      },
      "source": [
        "print(data.isna().sum(axis = 0))"
      ],
      "execution_count": null,
      "outputs": [
        {
          "output_type": "stream",
          "text": [
            "blue     0\n",
            "green    0\n",
            "red      0\n",
            "label    0\n",
            "dtype: int64\n"
          ],
          "name": "stdout"
        }
      ]
    },
    {
      "cell_type": "code",
      "metadata": {
        "id": "HzGRXStJNPj_"
      },
      "source": [
        "features = data[[\"blue\",\"green\",\"red\"]]\r\n",
        "target = data.label"
      ],
      "execution_count": null,
      "outputs": []
    },
    {
      "cell_type": "code",
      "metadata": {
        "colab": {
          "base_uri": "https://localhost:8080/",
          "height": 204
        },
        "id": "kf2PhJjIPs0m",
        "outputId": "8484c4d8-972d-4075-f5c0-fcfea01c5dcc"
      },
      "source": [
        "features.head()"
      ],
      "execution_count": null,
      "outputs": [
        {
          "output_type": "execute_result",
          "data": {
            "text/html": [
              "<div>\n",
              "<style scoped>\n",
              "    .dataframe tbody tr th:only-of-type {\n",
              "        vertical-align: middle;\n",
              "    }\n",
              "\n",
              "    .dataframe tbody tr th {\n",
              "        vertical-align: top;\n",
              "    }\n",
              "\n",
              "    .dataframe thead th {\n",
              "        text-align: right;\n",
              "    }\n",
              "</style>\n",
              "<table border=\"1\" class=\"dataframe\">\n",
              "  <thead>\n",
              "    <tr style=\"text-align: right;\">\n",
              "      <th></th>\n",
              "      <th>blue</th>\n",
              "      <th>green</th>\n",
              "      <th>red</th>\n",
              "    </tr>\n",
              "  </thead>\n",
              "  <tbody>\n",
              "    <tr>\n",
              "      <th>0</th>\n",
              "      <td>36</td>\n",
              "      <td>27</td>\n",
              "      <td>231</td>\n",
              "    </tr>\n",
              "    <tr>\n",
              "      <th>1</th>\n",
              "      <td>36</td>\n",
              "      <td>84</td>\n",
              "      <td>250</td>\n",
              "    </tr>\n",
              "    <tr>\n",
              "      <th>2</th>\n",
              "      <td>37</td>\n",
              "      <td>164</td>\n",
              "      <td>255</td>\n",
              "    </tr>\n",
              "    <tr>\n",
              "      <th>3</th>\n",
              "      <td>22</td>\n",
              "      <td>205</td>\n",
              "      <td>255</td>\n",
              "    </tr>\n",
              "    <tr>\n",
              "      <th>4</th>\n",
              "      <td>38</td>\n",
              "      <td>223</td>\n",
              "      <td>221</td>\n",
              "    </tr>\n",
              "  </tbody>\n",
              "</table>\n",
              "</div>"
            ],
            "text/plain": [
              "   blue  green  red\n",
              "0    36     27  231\n",
              "1    36     84  250\n",
              "2    37    164  255\n",
              "3    22    205  255\n",
              "4    38    223  221"
            ]
          },
          "metadata": {
            "tags": []
          },
          "execution_count": 84
        }
      ]
    },
    {
      "cell_type": "code",
      "metadata": {
        "colab": {
          "base_uri": "https://localhost:8080/"
        },
        "id": "bV5WbitnPwdd",
        "outputId": "5fa4ca59-92b1-4a97-cb0b-bb5777063c2d"
      },
      "source": [
        "target.head()"
      ],
      "execution_count": null,
      "outputs": [
        {
          "output_type": "execute_result",
          "data": {
            "text/plain": [
              "0    0\n",
              "1    1\n",
              "2    2\n",
              "3    3\n",
              "4    4\n",
              "Name: label, dtype: int64"
            ]
          },
          "metadata": {
            "tags": []
          },
          "execution_count": 85
        }
      ]
    },
    {
      "cell_type": "code",
      "metadata": {
        "id": "7n9RvQdiQ3uB"
      },
      "source": [
        "features = preprocessing.MinMaxScaler().fit_transform(features)\r\n",
        "feature_train, feature_test, target_train, target_test = train_test_split(features,target)"
      ],
      "execution_count": null,
      "outputs": []
    },
    {
      "cell_type": "code",
      "metadata": {
        "id": "q-cuM3bTRC6b"
      },
      "source": [
        "model = KNeighborsClassifier(n_neighbors=32)\r\n",
        "fitModel = model.fit(feature_train, target_train)\r\n",
        "predictions = fitModel.predict(feature_test)"
      ],
      "execution_count": null,
      "outputs": []
    },
    {
      "cell_type": "code",
      "metadata": {
        "colab": {
          "base_uri": "https://localhost:8080/"
        },
        "id": "hjJlhiYaRJzn",
        "outputId": "754d18d7-8053-45f1-c3a0-6f544b862a12"
      },
      "source": [
        "cross_valid_scores = []\r\n",
        "\r\n",
        "for k in range(1, 100):\r\n",
        "  knn = KNeighborsClassifier(n_neighbors = k)\r\n",
        "  scores = cross_val_score(knn,features, target, cv = 10, scoring = 'accuracy')\r\n",
        "  cross_valid_scores.append(scores.mean())    \r\n",
        "\r\n",
        "print(\"Optimal k with cross-validation: \\t\",np.argmax(cross_valid_scores))\r\n",
        "print(confusion_matrix(target_test,predictions))\r\n",
        "print(accuracy_score(target_test,predictions))"
      ],
      "execution_count": null,
      "outputs": [
        {
          "output_type": "stream",
          "text": [
            "Optimal k with cross-validation: \t 2\n",
            "[[ 9  0  0  0  0  0  0  0  0  0  0  0  0  0  1]\n",
            " [ 2 11  0  0  0  0  0  0  0  0  0  0  0  0  0]\n",
            " [ 0  2  8  0  0  0  0  0  0  0  0  0  0  0  0]\n",
            " [ 0  1  0  3  0  0  0  0  0  0  0  0  0  0  0]\n",
            " [ 0  1  0  2  7  0  0  0  0  0  0  0  0  0  0]\n",
            " [ 0  0  1  0  1  9  0  0  0  0  0  0  0  0  0]\n",
            " [ 0  0  0  1  0  0  8  2  0  0  0  0  0  0  0]\n",
            " [ 0  0  0  0  0  0  1  8  0  0  0  0  0  0  0]\n",
            " [ 0  0  0  0  2  0  1  0  8  0  0  0  0  0  0]\n",
            " [ 0  0  0  0  0  0  0  0  0 12  3  1  0  0  0]\n",
            " [ 0  0  0  0  0  0  0  1  0  1  7  0  0  1  0]\n",
            " [ 1  0  0  0  0  0  0  1  0  0  2  3  7  0  0]\n",
            " [ 0  0  0  0  0  0  0  0  0  0  0  1  9  1  1]\n",
            " [ 0  0  0  0  0  0  0  0  0  0  0  0  5  2  5]\n",
            " [ 0  0  0  0  0  0  0  0  0  0  0  0  0  0 11]]\n",
            "0.7012195121951219\n"
          ],
          "name": "stdout"
        }
      ]
    },
    {
      "cell_type": "code",
      "metadata": {
        "colab": {
          "base_uri": "https://localhost:8080/",
          "height": 286
        },
        "id": "x4j_COIjRWeR",
        "outputId": "e5296ed9-dfae-44e5-d85b-39bdeed1fbf0"
      },
      "source": [
        "import seaborn as sns\r\n",
        "sns.heatmap(confusion_matrix(target_test,predictions), annot=True, cmap='Blues')"
      ],
      "execution_count": null,
      "outputs": [
        {
          "output_type": "execute_result",
          "data": {
            "text/plain": [
              "<matplotlib.axes._subplots.AxesSubplot at 0x7f8df0e37c50>"
            ]
          },
          "metadata": {
            "tags": []
          },
          "execution_count": 89
        },
        {
          "output_type": "display_data",
          "data": {
            "image/png": "[encoded data removed]",
            "text/plain": [
              "<Figure size 432x288 with 2 Axes>"
            ]
          },
          "metadata": {
            "tags": [],
            "needs_background": "light"
          }
        }
      ]
    },
    {
      "cell_type": "code",
      "metadata": {
        "colab": {
          "base_uri": "https://localhost:8080/"
        },
        "id": "YIo6U_NLRfUi",
        "outputId": "67a082c5-4e62-422e-c789-58b83f60b37d"
      },
      "source": [
        "print(accuracy_score(target_test,predictions))"
      ],
      "execution_count": null,
      "outputs": [
        {
          "output_type": "stream",
          "text": [
            "0.7012195121951219\n"
          ],
          "name": "stdout"
        }
      ]
    },
    {
      "cell_type": "code",
      "metadata": {
        "id": "_Ue0WyuESG9-"
      },
      "source": [
        ""
      ],
      "execution_count": null,
      "outputs": []
    }
  ]
}